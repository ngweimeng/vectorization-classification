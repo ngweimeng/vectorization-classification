{
 "cells": [
  {
   "cell_type": "markdown",
   "metadata": {
    "id": "kdtRM-RNNK2b"
   },
   "source": [
    "# **CASE III – An exploration of the impact of Vectorization on Classification**"
   ]
  },
  {
   "cell_type": "markdown",
   "metadata": {
    "id": "R5eAit5rNTYV"
   },
   "source": [
    "**Problem Statement**\n",
    "\n",
    "Does the type of vectorization selected have a significant impact on the performance of the classification models ?"
   ]
  },
  {
   "cell_type": "markdown",
   "metadata": {
    "id": "Cz-lKsyBN2xZ"
   },
   "source": [
    "## **Import Packages & Read dataset**"
   ]
  },
  {
   "cell_type": "code",
   "execution_count": null,
   "metadata": {
    "colab": {
     "base_uri": "https://localhost:8080/"
    },
    "id": "sSoF4XneM3in",
    "outputId": "216e1e76-0ffe-444f-a028-7b7c544c25d4"
   },
   "outputs": [],
   "source": [
    "#from google.colab import drive\n",
    "#drive.mount('/content/drive')"
   ]
  },
  {
   "cell_type": "code",
   "execution_count": 1,
   "metadata": {},
   "outputs": [
    {
     "name": "stdout",
     "output_type": "stream",
     "text": [
      "Requirement already satisfied: NLTK in /Users/weimengng/anaconda3/lib/python3.10/site-packages (3.8.1)\n",
      "Requirement already satisfied: joblib in /Users/weimengng/anaconda3/lib/python3.10/site-packages (from NLTK) (1.3.2)\n",
      "Requirement already satisfied: regex>=2021.8.3 in /Users/weimengng/anaconda3/lib/python3.10/site-packages (from NLTK) (2023.12.25)\n",
      "Requirement already satisfied: click in /Users/weimengng/anaconda3/lib/python3.10/site-packages (from NLTK) (8.1.7)\n",
      "Requirement already satisfied: tqdm in /Users/weimengng/anaconda3/lib/python3.10/site-packages (from NLTK) (4.65.0)\n",
      "Note: you may need to restart the kernel to use updated packages.\n"
     ]
    }
   ],
   "source": [
    "pip install NLTK"
   ]
  },
  {
   "cell_type": "code",
   "execution_count": 2,
   "metadata": {
    "id": "eoQ9HFMENyag"
   },
   "outputs": [],
   "source": [
    "# suppress warnings\n",
    "import warnings\n",
    "warnings.filterwarnings('ignore', category=DeprecationWarning)\n",
    "\n",
    "# common imports\n",
    "import pandas as pd\n",
    "import numpy as np\n",
    "import math\n",
    "import re\n",
    "import glob\n",
    "import os\n",
    "import sys\n",
    "import json\n",
    "import random\n",
    "import pprint as pp\n",
    "import textwrap\n",
    "import sqlite3\n",
    "import logging\n",
    "import time\n",
    "\n",
    "import nltk\n",
    "from nltk.corpus import stopwords\n",
    "from nltk.stem import WordNetLemmatizer\n",
    "from nltk.tokenize import word_tokenize\n",
    "\n",
    "import matplotlib\n",
    "from matplotlib import pyplot as plt\n",
    "import seaborn as sns\n",
    "sns.set_style(\"darkgrid\")\n",
    "\n",
    "import locale\n",
    "def getpreferredencoding(do_setlocale = True):\n",
    "    return \"UTF-8\"\n",
    "locale.getpreferredencoding = getpreferredencoding"
   ]
  },
  {
   "cell_type": "code",
   "execution_count": null,
   "metadata": {
    "id": "yc-8J2rRNyX7"
   },
   "outputs": [],
   "source": [
    "#BASE_DIR = \"/content/drive/MyDrive/Natural Language Processing/NLP Project\"\n",
    "#os.chdir(BASE_DIR)"
   ]
  },
  {
   "cell_type": "code",
   "execution_count": 3,
   "metadata": {
    "colab": {
     "base_uri": "https://localhost:8080/",
     "height": 946
    },
    "id": "0oiicaQhNyVb",
    "outputId": "7cc5a411-8c8d-4138-f1b8-08adcdd6aaa9"
   },
   "outputs": [
    {
     "name": "stdout",
     "output_type": "stream",
     "text": [
      "<class 'pandas.core.frame.DataFrame'>\n",
      "RangeIndex: 294240 entries, 0 to 294239\n",
      "Data columns (total 8 columns):\n",
      " #   Column          Non-Null Count   Dtype \n",
      "---  ------          --------------   ----- \n",
      " 0   overall         294240 non-null  int64 \n",
      " 1   verified        294240 non-null  bool  \n",
      " 2   reviewTime      294240 non-null  object\n",
      " 3   reviewerID      294240 non-null  object\n",
      " 4   asin            294240 non-null  object\n",
      " 5   reviewText      294240 non-null  object\n",
      " 6   summary         294132 non-null  object\n",
      " 7   unixReviewTime  294240 non-null  int64 \n",
      "dtypes: bool(1), int64(2), object(5)\n",
      "memory usage: 16.0+ MB\n",
      "None\n"
     ]
    },
    {
     "data": {
      "text/html": [
       "<div>\n",
       "<style scoped>\n",
       "    .dataframe tbody tr th:only-of-type {\n",
       "        vertical-align: middle;\n",
       "    }\n",
       "\n",
       "    .dataframe tbody tr th {\n",
       "        vertical-align: top;\n",
       "    }\n",
       "\n",
       "    .dataframe thead th {\n",
       "        text-align: right;\n",
       "    }\n",
       "</style>\n",
       "<table border=\"1\" class=\"dataframe\">\n",
       "  <thead>\n",
       "    <tr style=\"text-align: right;\">\n",
       "      <th></th>\n",
       "      <th>overall</th>\n",
       "      <th>verified</th>\n",
       "      <th>reviewTime</th>\n",
       "      <th>reviewerID</th>\n",
       "      <th>asin</th>\n",
       "      <th>reviewText</th>\n",
       "      <th>summary</th>\n",
       "      <th>unixReviewTime</th>\n",
       "    </tr>\n",
       "  </thead>\n",
       "  <tbody>\n",
       "    <tr>\n",
       "      <th>0</th>\n",
       "      <td>1</td>\n",
       "      <td>True</td>\n",
       "      <td>03 12, 2018</td>\n",
       "      <td>A3QY3THQ42WSCQ</td>\n",
       "      <td>B000YFSR5G</td>\n",
       "      <td>Waaaay too BIG</td>\n",
       "      <td>One Star</td>\n",
       "      <td>1520812800</td>\n",
       "    </tr>\n",
       "    <tr>\n",
       "      <th>1</th>\n",
       "      <td>1</td>\n",
       "      <td>True</td>\n",
       "      <td>03 12, 2018</td>\n",
       "      <td>A3QY3THQ42WSCQ</td>\n",
       "      <td>B000YFSR4W</td>\n",
       "      <td>Waaaay too BIG</td>\n",
       "      <td>One Star</td>\n",
       "      <td>1520812800</td>\n",
       "    </tr>\n",
       "    <tr>\n",
       "      <th>2</th>\n",
       "      <td>1</td>\n",
       "      <td>True</td>\n",
       "      <td>02 8, 2017</td>\n",
       "      <td>A21HH0VIBKK80J</td>\n",
       "      <td>B000YFSR5G</td>\n",
       "      <td>Was terribly disappointed, the pants were way ...</td>\n",
       "      <td>Was terribly disappointed, the pants were way ...</td>\n",
       "      <td>1486512000</td>\n",
       "    </tr>\n",
       "    <tr>\n",
       "      <th>3</th>\n",
       "      <td>1</td>\n",
       "      <td>True</td>\n",
       "      <td>02 8, 2017</td>\n",
       "      <td>A21HH0VIBKK80J</td>\n",
       "      <td>B000YFSR4W</td>\n",
       "      <td>Was terribly disappointed, the pants were way ...</td>\n",
       "      <td>Was terribly disappointed, the pants were way ...</td>\n",
       "      <td>1486512000</td>\n",
       "    </tr>\n",
       "    <tr>\n",
       "      <th>4</th>\n",
       "      <td>1</td>\n",
       "      <td>True</td>\n",
       "      <td>02 19, 2018</td>\n",
       "      <td>A276HQXYS553QW</td>\n",
       "      <td>B0014F8TIU</td>\n",
       "      <td>Constantly rolls down</td>\n",
       "      <td>One Star</td>\n",
       "      <td>1518998400</td>\n",
       "    </tr>\n",
       "  </tbody>\n",
       "</table>\n",
       "</div>"
      ],
      "text/plain": [
       "   overall  verified   reviewTime      reviewerID        asin  \\\n",
       "0        1      True  03 12, 2018  A3QY3THQ42WSCQ  B000YFSR5G   \n",
       "1        1      True  03 12, 2018  A3QY3THQ42WSCQ  B000YFSR4W   \n",
       "2        1      True   02 8, 2017  A21HH0VIBKK80J  B000YFSR5G   \n",
       "3        1      True   02 8, 2017  A21HH0VIBKK80J  B000YFSR4W   \n",
       "4        1      True  02 19, 2018  A276HQXYS553QW  B0014F8TIU   \n",
       "\n",
       "                                          reviewText  \\\n",
       "0                                     Waaaay too BIG   \n",
       "1                                     Waaaay too BIG   \n",
       "2  Was terribly disappointed, the pants were way ...   \n",
       "3  Was terribly disappointed, the pants were way ...   \n",
       "4                              Constantly rolls down   \n",
       "\n",
       "                                             summary  unixReviewTime  \n",
       "0                                           One Star      1520812800  \n",
       "1                                           One Star      1520812800  \n",
       "2  Was terribly disappointed, the pants were way ...      1486512000  \n",
       "3  Was terribly disappointed, the pants were way ...      1486512000  \n",
       "4                                           One Star      1518998400  "
      ]
     },
     "execution_count": 3,
     "metadata": {},
     "output_type": "execute_result"
    }
   ],
   "source": [
    "file = \"reviews_5_balanced.json\"\n",
    "df = pd.read_json(file, lines=True)\n",
    "print(df.info())\n",
    "df.head()"
   ]
  },
  {
   "cell_type": "markdown",
   "metadata": {
    "id": "8J4zyMWxekby"
   },
   "source": [
    "## **Data Exploration**"
   ]
  },
  {
   "cell_type": "code",
   "execution_count": 4,
   "metadata": {
    "colab": {
     "base_uri": "https://localhost:8080/"
    },
    "id": "YuivdPIVduKj",
    "outputId": "ef7b86c7-35a6-47e0-ee8f-ce63c1028cb5"
   },
   "outputs": [
    {
     "data": {
      "text/plain": [
       "0                                                  One Star\n",
       "1                                                  One Star\n",
       "2         Was terribly disappointed, the pants were way ...\n",
       "3         Was terribly disappointed, the pants were way ...\n",
       "4                                                  One Star\n",
       "                                ...                        \n",
       "294235                                           Five Stars\n",
       "294236                                           Five Stars\n",
       "294237                                           Five Stars\n",
       "294238                                 Love the kick stand.\n",
       "294239                                       flavoerd cofee\n",
       "Name: summary, Length: 294240, dtype: object"
      ]
     },
     "execution_count": 4,
     "metadata": {},
     "output_type": "execute_result"
    }
   ],
   "source": [
    "df.summary"
   ]
  },
  {
   "cell_type": "code",
   "execution_count": 5,
   "metadata": {
    "colab": {
     "base_uri": "https://localhost:8080/",
     "height": 409
    },
    "id": "qZiyHoYE-EZH",
    "outputId": "2962f76e-af63-412d-afee-4c7ee7a41766"
   },
   "outputs": [
    {
     "data": {
      "image/png": "[encoded data removed]",
      "text/plain": [
       "<Figure size 1000x600 with 1 Axes>"
      ]
     },
     "metadata": {},
     "output_type": "display_data"
    }
   ],
   "source": [
    "plt.figure(figsize=(10, 6))\n",
    "overall_counts = df['overall'].value_counts().sort_index()\n",
    "\n",
    "# Reindex the overall_counts to include a '3' and set any missing index to 0\n",
    "reindexed_counts = overall_counts.reindex(range(1, 6), fill_value=0)\n",
    "x_positions = np.arange(len(reindexed_counts))\n",
    "bars = plt.bar(x_positions, reindexed_counts.values)\n",
    "\n",
    "# Set the x-tick labels to show all ratings\n",
    "plt.xticks(x_positions, reindexed_counts.index)\n",
    "\n",
    "# Annotate each bar with its count\n",
    "for bar in bars:\n",
    "    height = bar.get_height()\n",
    "    plt.text(bar.get_x() + bar.get_width()/2., height, '%d' % int(height), ha='center', va='bottom')\n",
    "\n",
    "# Plot\n",
    "plt.xlabel('Overall Rating')\n",
    "plt.ylabel('Count')\n",
    "plt.title('Distribution of Overall Ratings')\n",
    "plt.grid(axis='y')\n",
    "plt.show()"
   ]
  },
  {
   "cell_type": "code",
   "execution_count": 6,
   "metadata": {
    "colab": {
     "base_uri": "https://localhost:8080/",
     "height": 167
    },
    "id": "rUuF762YP8uE",
    "outputId": "8ebaefbe-99db-486a-b900-df4856212e1d"
   },
   "outputs": [
    {
     "data": {
      "text/html": [
       "<div>\n",
       "<style scoped>\n",
       "    .dataframe tbody tr th:only-of-type {\n",
       "        vertical-align: middle;\n",
       "    }\n",
       "\n",
       "    .dataframe tbody tr th {\n",
       "        vertical-align: top;\n",
       "    }\n",
       "\n",
       "    .dataframe thead th {\n",
       "        text-align: right;\n",
       "    }\n",
       "</style>\n",
       "<table border=\"1\" class=\"dataframe\">\n",
       "  <thead>\n",
       "    <tr style=\"text-align: right;\">\n",
       "      <th></th>\n",
       "      <th>overall</th>\n",
       "      <th>verified</th>\n",
       "      <th>reviewTime</th>\n",
       "      <th>reviewerID</th>\n",
       "      <th>asin</th>\n",
       "      <th>reviewText</th>\n",
       "      <th>summary</th>\n",
       "      <th>unixReviewTime</th>\n",
       "      <th>outcome</th>\n",
       "    </tr>\n",
       "  </thead>\n",
       "  <tbody>\n",
       "    <tr>\n",
       "      <th>0</th>\n",
       "      <td>1</td>\n",
       "      <td>True</td>\n",
       "      <td>03 12, 2018</td>\n",
       "      <td>A3QY3THQ42WSCQ</td>\n",
       "      <td>B000YFSR5G</td>\n",
       "      <td>Waaaay too BIG</td>\n",
       "      <td>One Star</td>\n",
       "      <td>1520812800</td>\n",
       "      <td>0</td>\n",
       "    </tr>\n",
       "    <tr>\n",
       "      <th>1</th>\n",
       "      <td>1</td>\n",
       "      <td>True</td>\n",
       "      <td>03 12, 2018</td>\n",
       "      <td>A3QY3THQ42WSCQ</td>\n",
       "      <td>B000YFSR4W</td>\n",
       "      <td>Waaaay too BIG</td>\n",
       "      <td>One Star</td>\n",
       "      <td>1520812800</td>\n",
       "      <td>0</td>\n",
       "    </tr>\n",
       "  </tbody>\n",
       "</table>\n",
       "</div>"
      ],
      "text/plain": [
       "   overall  verified   reviewTime      reviewerID        asin      reviewText  \\\n",
       "0        1      True  03 12, 2018  A3QY3THQ42WSCQ  B000YFSR5G  Waaaay too BIG   \n",
       "1        1      True  03 12, 2018  A3QY3THQ42WSCQ  B000YFSR4W  Waaaay too BIG   \n",
       "\n",
       "    summary  unixReviewTime  outcome  \n",
       "0  One Star      1520812800        0  \n",
       "1  One Star      1520812800        0  "
      ]
     },
     "execution_count": 6,
     "metadata": {},
     "output_type": "execute_result"
    }
   ],
   "source": [
    "# Create the 'outcome' column based on 'overall' rating\n",
    "df['outcome'] = df['overall'].apply(lambda x: 0 if x <= 2 else 1 if x in [4, 5] else None)\n",
    "df.head(2)"
   ]
  },
  {
   "cell_type": "code",
   "execution_count": 7,
   "metadata": {
    "colab": {
     "base_uri": "https://localhost:8080/",
     "height": 360
    },
    "id": "b_pDkX6iUBH6",
    "outputId": "e10bc4f4-cae4-4246-868b-5088ab4c7fec"
   },
   "outputs": [
    {
     "data": {
      "image/png": "[encoded data removed]",
      "text/plain": [
       "<Figure size 800x400 with 1 Axes>"
      ]
     },
     "metadata": {},
     "output_type": "display_data"
    }
   ],
   "source": [
    "bar_width = 0.2\n",
    "plt.figure(figsize=(8, 4))\n",
    "outcome_counts = df['outcome'].value_counts()\n",
    "bars = plt.bar(outcome_counts.index.astype(str), outcome_counts.values, width=bar_width)  # Add the width parameter here\n",
    "\n",
    "# Annotate each bar with its count\n",
    "for bar in bars:\n",
    "    yval = bar.get_height()\n",
    "    plt.text(bar.get_x() + bar.get_width()/2, yval, '%d' % int(yval), ha='center', va='bottom')\n",
    "\n",
    "# Plot\n",
    "plt.xlabel('Outcome')\n",
    "plt.ylabel('Count')\n",
    "plt.title('Distribution of Outcomes')\n",
    "plt.xticks([0, 1], ['Negative (0)', 'Positive (1)'])  # Set the x-ticks to correspond to the outcome labels\n",
    "plt.grid(axis='y')\n",
    "plt.show()"
   ]
  },
  {
   "cell_type": "code",
   "execution_count": 8,
   "metadata": {
    "colab": {
     "base_uri": "https://localhost:8080/",
     "height": 380
    },
    "id": "75IB71fIVVTX",
    "outputId": "050c6cbc-5526-4d5a-be93-d30a29850ae4"
   },
   "outputs": [
    {
     "data": {
      "image/png": "[encoded data removed]",
      "text/plain": [
       "<Figure size 800x400 with 1 Axes>"
      ]
     },
     "metadata": {},
     "output_type": "display_data"
    }
   ],
   "source": [
    "bar_width = 0.2\n",
    "df['review_length'] = df['reviewText'].str.split().str.len()\n",
    "average_lengths = df.groupby('outcome')['review_length'].mean()\n",
    "plt.figure(figsize=(8, 4))\n",
    "bars = plt.bar(average_lengths.index.astype(str), average_lengths.values, width=bar_width)\n",
    "\n",
    "# Annotate each bar with its count\n",
    "for bar in bars:\n",
    "    height = bar.get_height()\n",
    "    plt.text(bar.get_x() + bar.get_width()/2., height, f'{height:.2f}', ha='center', va='bottom')\n",
    "\n",
    "# Plot\n",
    "plt.xlabel('Outcome')\n",
    "plt.ylabel('Average Review Length (words)')\n",
    "plt.title('Average Review Length by Outcome')\n",
    "plt.xticks([0, 1], ['Negative (0)', 'Positive (1)']) \n",
    "plt.grid(axis='y')\n",
    "plt.show()"
   ]
  },
  {
   "cell_type": "markdown",
   "metadata": {
    "id": "dCOw7c23qLIb"
   },
   "source": [
    "## **Preprocessing**"
   ]
  },
  {
   "cell_type": "code",
   "execution_count": 9,
   "metadata": {
    "colab": {
     "base_uri": "https://localhost:8080/"
    },
    "id": "RXoNsFuCNyLX",
    "outputId": "3bdf2aec-d837-4675-d0ac-106a53714aaa"
   },
   "outputs": [
    {
     "name": "stderr",
     "output_type": "stream",
     "text": [
      "[nltk_data] Downloading package punkt to /Users/weimengng/nltk_data...\n",
      "[nltk_data]   Package punkt is already up-to-date!\n",
      "[nltk_data] Downloading package stopwords to\n",
      "[nltk_data]     /Users/weimengng/nltk_data...\n",
      "[nltk_data]   Package stopwords is already up-to-date!\n",
      "[nltk_data] Downloading package wordnet to\n",
      "[nltk_data]     /Users/weimengng/nltk_data...\n",
      "[nltk_data]   Package wordnet is already up-to-date!\n"
     ]
    }
   ],
   "source": [
    "# Download NLTK data\n",
    "nltk.download('punkt')\n",
    "nltk.download('stopwords')\n",
    "nltk.download('wordnet')\n",
    "\n",
    "# Initialize WordNet Lemmatizer\n",
    "lemmatizer = WordNetLemmatizer()\n",
    "\n",
    "# Load English stopwords\n",
    "stop_words = set(stopwords.words('english'))"
   ]
  },
  {
   "cell_type": "code",
   "execution_count": 10,
   "metadata": {
    "id": "_764kFf6qkFq"
   },
   "outputs": [],
   "source": [
    "def preprocess_text(text):\n",
    "    # Tokenize text\n",
    "    tokens = word_tokenize(text)\n",
    "    # Convert to lowercase, lemmatize, and remove stopwords and punctuation\n",
    "    tokens = [lemmatizer.lemmatize(token.lower()) for token in tokens if token.isalpha() and token.lower() not in stop_words]\n",
    "    return ' '.join(tokens)"
   ]
  },
  {
   "cell_type": "code",
   "execution_count": 11,
   "metadata": {
    "colab": {
     "base_uri": "https://localhost:8080/",
     "height": 310
    },
    "id": "g9dCqO2NNxHH",
    "outputId": "c668d9e5-57e4-4854-c3a2-68637ed0d69f"
   },
   "outputs": [
    {
     "data": {
      "text/html": [
       "<div>\n",
       "<style scoped>\n",
       "    .dataframe tbody tr th:only-of-type {\n",
       "        vertical-align: middle;\n",
       "    }\n",
       "\n",
       "    .dataframe tbody tr th {\n",
       "        vertical-align: top;\n",
       "    }\n",
       "\n",
       "    .dataframe thead th {\n",
       "        text-align: right;\n",
       "    }\n",
       "</style>\n",
       "<table border=\"1\" class=\"dataframe\">\n",
       "  <thead>\n",
       "    <tr style=\"text-align: right;\">\n",
       "      <th></th>\n",
       "      <th>reviewText</th>\n",
       "      <th>processed_reviewText</th>\n",
       "    </tr>\n",
       "  </thead>\n",
       "  <tbody>\n",
       "    <tr>\n",
       "      <th>0</th>\n",
       "      <td>Waaaay too BIG</td>\n",
       "      <td>waaaay big</td>\n",
       "    </tr>\n",
       "    <tr>\n",
       "      <th>1</th>\n",
       "      <td>Waaaay too BIG</td>\n",
       "      <td>waaaay big</td>\n",
       "    </tr>\n",
       "    <tr>\n",
       "      <th>2</th>\n",
       "      <td>Was terribly disappointed, the pants were way ...</td>\n",
       "      <td>terribly disappointed pant way large leg husba...</td>\n",
       "    </tr>\n",
       "    <tr>\n",
       "      <th>3</th>\n",
       "      <td>Was terribly disappointed, the pants were way ...</td>\n",
       "      <td>terribly disappointed pant way large leg husba...</td>\n",
       "    </tr>\n",
       "    <tr>\n",
       "      <th>4</th>\n",
       "      <td>Constantly rolls down</td>\n",
       "      <td>constantly roll</td>\n",
       "    </tr>\n",
       "  </tbody>\n",
       "</table>\n",
       "</div>"
      ],
      "text/plain": [
       "                                          reviewText  \\\n",
       "0                                     Waaaay too BIG   \n",
       "1                                     Waaaay too BIG   \n",
       "2  Was terribly disappointed, the pants were way ...   \n",
       "3  Was terribly disappointed, the pants were way ...   \n",
       "4                              Constantly rolls down   \n",
       "\n",
       "                                processed_reviewText  \n",
       "0                                         waaaay big  \n",
       "1                                         waaaay big  \n",
       "2  terribly disappointed pant way large leg husba...  \n",
       "3  terribly disappointed pant way large leg husba...  \n",
       "4                                    constantly roll  "
      ]
     },
     "execution_count": 11,
     "metadata": {},
     "output_type": "execute_result"
    }
   ],
   "source": [
    "# Apply the preprocessing function to the reviewText column\n",
    "df['processed_reviewText'] = df['reviewText'].apply(preprocess_text)\n",
    "df[['reviewText', 'processed_reviewText']].head()"
   ]
  },
  {
   "cell_type": "markdown",
   "metadata": {
    "id": "Y4rjh1ivsGKg"
   },
   "source": [
    "## **Vectorization**"
   ]
  },
  {
   "cell_type": "code",
   "execution_count": 12,
   "metadata": {
    "colab": {
     "base_uri": "https://localhost:8080/"
    },
    "id": "Owvv6oVfZQE4",
    "outputId": "4a337b39-76a3-4666-fed8-b4bbdef5065d"
   },
   "outputs": [
    {
     "name": "stdout",
     "output_type": "stream",
     "text": [
      "<class 'pandas.core.frame.DataFrame'>\n",
      "RangeIndex: 294240 entries, 0 to 294239\n",
      "Data columns (total 11 columns):\n",
      " #   Column                Non-Null Count   Dtype \n",
      "---  ------                --------------   ----- \n",
      " 0   overall               294240 non-null  int64 \n",
      " 1   verified              294240 non-null  bool  \n",
      " 2   reviewTime            294240 non-null  object\n",
      " 3   reviewerID            294240 non-null  object\n",
      " 4   asin                  294240 non-null  object\n",
      " 5   reviewText            294240 non-null  object\n",
      " 6   summary               294132 non-null  object\n",
      " 7   unixReviewTime        294240 non-null  int64 \n",
      " 8   outcome               294240 non-null  int64 \n",
      " 9   review_length         294240 non-null  int64 \n",
      " 10  processed_reviewText  294240 non-null  object\n",
      "dtypes: bool(1), int64(4), object(6)\n",
      "memory usage: 22.7+ MB\n"
     ]
    }
   ],
   "source": [
    "df.info()"
   ]
  },
  {
   "cell_type": "markdown",
   "metadata": {
    "id": "Mjf8JDXZsL06"
   },
   "source": [
    "#### **Bag of Words with TF-IDF**"
   ]
  },
  {
   "cell_type": "code",
   "execution_count": 13,
   "metadata": {
    "id": "Mxfxo2xNwzAb"
   },
   "outputs": [],
   "source": [
    "from sklearn.feature_extraction.text import TfidfVectorizer"
   ]
  },
  {
   "cell_type": "code",
   "execution_count": 14,
   "metadata": {
    "colab": {
     "base_uri": "https://localhost:8080/"
    },
    "id": "DEyIOW51w4zi",
    "outputId": "cd143563-54c5-4c7c-acc9-c6ac1d40e09a"
   },
   "outputs": [
    {
     "name": "stdout",
     "output_type": "stream",
     "text": [
      "CPU times: user 2.19 s, sys: 23.7 ms, total: 2.22 s\n",
      "Wall time: 2.25 s\n"
     ]
    },
    {
     "data": {
      "text/plain": [
       "(294240, 9378)"
      ]
     },
     "execution_count": 14,
     "metadata": {},
     "output_type": "execute_result"
    }
   ],
   "source": [
    "%%time\n",
    "\n",
    "# Appear in at least 5 documents and in no more than 70% of all documents are included\n",
    "tfidf_text_vectorizer = TfidfVectorizer(min_df=5, max_df=0.7) \n",
    "tfidf_text_vectors = tfidf_text_vectorizer.fit_transform(df['processed_reviewText'])\n",
    "tfidf_text_vectors.shape # 9378 Vocabulary"
   ]
  },
  {
   "cell_type": "code",
   "execution_count": 15,
   "metadata": {
    "colab": {
     "base_uri": "https://localhost:8080/",
     "height": 256
    },
    "id": "-dpZ0cYrzk8v",
    "outputId": "9504ef7d-4731-4291-a580-ba5d5e7ccc6a"
   },
   "outputs": [
    {
     "data": {
      "text/html": [
       "<div>\n",
       "<style scoped>\n",
       "    .dataframe tbody tr th:only-of-type {\n",
       "        vertical-align: middle;\n",
       "    }\n",
       "\n",
       "    .dataframe tbody tr th {\n",
       "        vertical-align: top;\n",
       "    }\n",
       "\n",
       "    .dataframe thead th {\n",
       "        text-align: right;\n",
       "    }\n",
       "</style>\n",
       "<table border=\"1\" class=\"dataframe\">\n",
       "  <thead>\n",
       "    <tr style=\"text-align: right;\">\n",
       "      <th></th>\n",
       "      <th>aa</th>\n",
       "      <th>aaa</th>\n",
       "      <th>aaaa</th>\n",
       "      <th>aaaaa</th>\n",
       "      <th>ab</th>\n",
       "      <th>abd</th>\n",
       "      <th>ability</th>\n",
       "      <th>abit</th>\n",
       "      <th>able</th>\n",
       "      <th>abrasive</th>\n",
       "      <th>...</th>\n",
       "      <th>zinc</th>\n",
       "      <th>zinnia</th>\n",
       "      <th>zip</th>\n",
       "      <th>zipper</th>\n",
       "      <th>zj</th>\n",
       "      <th>zombie</th>\n",
       "      <th>zone</th>\n",
       "      <th>zoom</th>\n",
       "      <th>zte</th>\n",
       "      <th>zucchini</th>\n",
       "    </tr>\n",
       "  </thead>\n",
       "  <tbody>\n",
       "    <tr>\n",
       "      <th>0</th>\n",
       "      <td>0.0</td>\n",
       "      <td>0.0</td>\n",
       "      <td>0.0</td>\n",
       "      <td>0.0</td>\n",
       "      <td>0.0</td>\n",
       "      <td>0.0</td>\n",
       "      <td>0.0</td>\n",
       "      <td>0.0</td>\n",
       "      <td>0.0</td>\n",
       "      <td>0.0</td>\n",
       "      <td>...</td>\n",
       "      <td>0.0</td>\n",
       "      <td>0.0</td>\n",
       "      <td>0.0</td>\n",
       "      <td>0.0</td>\n",
       "      <td>0.0</td>\n",
       "      <td>0.0</td>\n",
       "      <td>0.0</td>\n",
       "      <td>0.0</td>\n",
       "      <td>0.0</td>\n",
       "      <td>0.0</td>\n",
       "    </tr>\n",
       "    <tr>\n",
       "      <th>1</th>\n",
       "      <td>0.0</td>\n",
       "      <td>0.0</td>\n",
       "      <td>0.0</td>\n",
       "      <td>0.0</td>\n",
       "      <td>0.0</td>\n",
       "      <td>0.0</td>\n",
       "      <td>0.0</td>\n",
       "      <td>0.0</td>\n",
       "      <td>0.0</td>\n",
       "      <td>0.0</td>\n",
       "      <td>...</td>\n",
       "      <td>0.0</td>\n",
       "      <td>0.0</td>\n",
       "      <td>0.0</td>\n",
       "      <td>0.0</td>\n",
       "      <td>0.0</td>\n",
       "      <td>0.0</td>\n",
       "      <td>0.0</td>\n",
       "      <td>0.0</td>\n",
       "      <td>0.0</td>\n",
       "      <td>0.0</td>\n",
       "    </tr>\n",
       "    <tr>\n",
       "      <th>2</th>\n",
       "      <td>0.0</td>\n",
       "      <td>0.0</td>\n",
       "      <td>0.0</td>\n",
       "      <td>0.0</td>\n",
       "      <td>0.0</td>\n",
       "      <td>0.0</td>\n",
       "      <td>0.0</td>\n",
       "      <td>0.0</td>\n",
       "      <td>0.0</td>\n",
       "      <td>0.0</td>\n",
       "      <td>...</td>\n",
       "      <td>0.0</td>\n",
       "      <td>0.0</td>\n",
       "      <td>0.0</td>\n",
       "      <td>0.0</td>\n",
       "      <td>0.0</td>\n",
       "      <td>0.0</td>\n",
       "      <td>0.0</td>\n",
       "      <td>0.0</td>\n",
       "      <td>0.0</td>\n",
       "      <td>0.0</td>\n",
       "    </tr>\n",
       "    <tr>\n",
       "      <th>3</th>\n",
       "      <td>0.0</td>\n",
       "      <td>0.0</td>\n",
       "      <td>0.0</td>\n",
       "      <td>0.0</td>\n",
       "      <td>0.0</td>\n",
       "      <td>0.0</td>\n",
       "      <td>0.0</td>\n",
       "      <td>0.0</td>\n",
       "      <td>0.0</td>\n",
       "      <td>0.0</td>\n",
       "      <td>...</td>\n",
       "      <td>0.0</td>\n",
       "      <td>0.0</td>\n",
       "      <td>0.0</td>\n",
       "      <td>0.0</td>\n",
       "      <td>0.0</td>\n",
       "      <td>0.0</td>\n",
       "      <td>0.0</td>\n",
       "      <td>0.0</td>\n",
       "      <td>0.0</td>\n",
       "      <td>0.0</td>\n",
       "    </tr>\n",
       "    <tr>\n",
       "      <th>4</th>\n",
       "      <td>0.0</td>\n",
       "      <td>0.0</td>\n",
       "      <td>0.0</td>\n",
       "      <td>0.0</td>\n",
       "      <td>0.0</td>\n",
       "      <td>0.0</td>\n",
       "      <td>0.0</td>\n",
       "      <td>0.0</td>\n",
       "      <td>0.0</td>\n",
       "      <td>0.0</td>\n",
       "      <td>...</td>\n",
       "      <td>0.0</td>\n",
       "      <td>0.0</td>\n",
       "      <td>0.0</td>\n",
       "      <td>0.0</td>\n",
       "      <td>0.0</td>\n",
       "      <td>0.0</td>\n",
       "      <td>0.0</td>\n",
       "      <td>0.0</td>\n",
       "      <td>0.0</td>\n",
       "      <td>0.0</td>\n",
       "    </tr>\n",
       "  </tbody>\n",
       "</table>\n",
       "<p>5 rows × 9378 columns</p>\n",
       "</div>"
      ],
      "text/plain": [
       "    aa  aaa  aaaa  aaaaa   ab  abd  ability  abit  able  abrasive  ...  zinc  \\\n",
       "0  0.0  0.0   0.0    0.0  0.0  0.0      0.0   0.0   0.0       0.0  ...   0.0   \n",
       "1  0.0  0.0   0.0    0.0  0.0  0.0      0.0   0.0   0.0       0.0  ...   0.0   \n",
       "2  0.0  0.0   0.0    0.0  0.0  0.0      0.0   0.0   0.0       0.0  ...   0.0   \n",
       "3  0.0  0.0   0.0    0.0  0.0  0.0      0.0   0.0   0.0       0.0  ...   0.0   \n",
       "4  0.0  0.0   0.0    0.0  0.0  0.0      0.0   0.0   0.0       0.0  ...   0.0   \n",
       "\n",
       "   zinnia  zip  zipper   zj  zombie  zone  zoom  zte  zucchini  \n",
       "0     0.0  0.0     0.0  0.0     0.0   0.0   0.0  0.0       0.0  \n",
       "1     0.0  0.0     0.0  0.0     0.0   0.0   0.0  0.0       0.0  \n",
       "2     0.0  0.0     0.0  0.0     0.0   0.0   0.0  0.0       0.0  \n",
       "3     0.0  0.0     0.0  0.0     0.0   0.0   0.0  0.0       0.0  \n",
       "4     0.0  0.0     0.0  0.0     0.0   0.0   0.0  0.0       0.0  \n",
       "\n",
       "[5 rows x 9378 columns]"
      ]
     },
     "execution_count": 15,
     "metadata": {},
     "output_type": "execute_result"
    }
   ],
   "source": [
    "# Convert sparse matrix to dense matrix\n",
    "dense_tfidf_vectors = tfidf_text_vectors.toarray()\n",
    "\n",
    "# Convert to DataFrame\n",
    "df_tfidf = pd.DataFrame(dense_tfidf_vectors, columns=tfidf_text_vectorizer.get_feature_names_out())\n",
    "df_tfidf.head()"
   ]
  },
  {
   "cell_type": "markdown",
   "metadata": {
    "id": "8E0g2u3atQCJ"
   },
   "source": [
    "#### **Topic Modeling with NMF**"
   ]
  },
  {
   "cell_type": "code",
   "execution_count": null,
   "metadata": {},
   "outputs": [],
   "source": [
    "from sklearn.decomposition import NMF"
   ]
  },
  {
   "cell_type": "code",
   "execution_count": null,
   "metadata": {
    "colab": {
     "base_uri": "https://localhost:8080/"
    },
    "id": "BnmfRw3Ny8-I",
    "outputId": "eafa1324-b1f7-444a-b150-0adcf1e38e1d"
   },
   "outputs": [],
   "source": [
    "%%time\n",
    "\n",
    "# 100 dimensions\n",
    "nmf_text_model = NMF(n_components=100, random_state=42)\n",
    "W_text_matrix = nmf_text_model.fit_transform(tfidf_text_vectors)\n",
    "H_text_matrix = nmf_text_model.components_"
   ]
  },
  {
   "cell_type": "code",
   "execution_count": null,
   "metadata": {
    "colab": {
     "base_uri": "https://localhost:8080/"
    },
    "id": "35Z4qt0PzI1A",
    "outputId": "8cd79131-23f0-4db5-a890-bf236d4b37c2"
   },
   "outputs": [],
   "source": [
    "tfidf_text_vectors.shape, W_text_matrix.shape, H_text_matrix.shape"
   ]
  },
  {
   "cell_type": "code",
   "execution_count": null,
   "metadata": {
    "colab": {
     "base_uri": "https://localhost:8080/"
    },
    "id": "MrpesYqkzL_I",
    "outputId": "d1f8a760-46fa-4af8-9501-6af29aa32a27"
   },
   "outputs": [],
   "source": [
    "W_text_matrix"
   ]
  },
  {
   "cell_type": "code",
   "execution_count": null,
   "metadata": {
    "colab": {
     "base_uri": "https://localhost:8080/"
    },
    "id": "jjY8Ri6wzOc5",
    "outputId": "2aaa8013-eab7-492f-c99b-8ad11dce1efc"
   },
   "outputs": [],
   "source": [
    "H_text_matrix"
   ]
  },
  {
   "cell_type": "code",
   "execution_count": null,
   "metadata": {
    "id": "hoMpwQI7zXpB"
   },
   "outputs": [],
   "source": [
    "def display_topics(model, features, no_top_words=5):\n",
    "    for topic, words in enumerate(model.components_):\n",
    "        total = words.sum()\n",
    "        largest = words.argsort()[::-1]\n",
    "        print(\"\\nTopic %02d\" % topic)\n",
    "        for i in range(0, no_top_words):\n",
    "            print(\"  %s (%2.2f)\" % (features[largest[i]], abs(words[largest[i]]*100.0/total)))"
   ]
  },
  {
   "cell_type": "code",
   "execution_count": null,
   "metadata": {
    "colab": {
     "base_uri": "https://localhost:8080/"
    },
    "id": "-Xw7QzLozaqo",
    "outputId": "2092b803-0ea1-4f8f-b7a3-07815111950c"
   },
   "outputs": [],
   "source": [
    "display_topics(nmf_text_model, tfidf_text_vectorizer.get_feature_names_out())"
   ]
  },
  {
   "cell_type": "markdown",
   "metadata": {},
   "source": [
    "#### **GloVe**"
   ]
  },
  {
   "cell_type": "code",
   "execution_count": null,
   "metadata": {},
   "outputs": [],
   "source": [
    "try:\n",
    "  from gensim.utils import simple_preprocess\n",
    "except:\n",
    "  %pip install gensim\n",
    "  from gensim.utils import simple_preprocess"
   ]
  },
  {
   "cell_type": "code",
   "execution_count": null,
   "metadata": {},
   "outputs": [],
   "source": [
    "def load_glove_embeddings(path):\n",
    "    \"\"\"\n",
    "    Load GloVe word embeddings from a file into a dictionary.\n",
    "    \n",
    "    Args:\n",
    "    path (str): The file path to the GloVe embeddings file.\n",
    "    \n",
    "    Returns:\n",
    "    dict: A dictionary with words as keys and embedding vectors as values.\n",
    "    \"\"\"\n",
    "    embeddings_index = {}\n",
    "    with open(path, 'r', encoding='utf-8') as f:\n",
    "        for line in f:\n",
    "            values = line.split()\n",
    "            word = values[0]\n",
    "            coefs = np.asarray(values[1:], dtype='float32')\n",
    "            embeddings_index[word] = coefs\n",
    "    return embeddings_index\n",
    "\n",
    "# Load glove embeddings file\n",
    "glove_path = 'glove.6B.100d.txt'  \n",
    "glove_embeddings = load_glove_embeddings(glove_path)"
   ]
  },
  {
   "cell_type": "code",
   "execution_count": null,
   "metadata": {},
   "outputs": [],
   "source": [
    "# Tokenize preprocessed texts\n",
    "df['tokenized_text'] = df['processed_reviewText'].apply(lambda x: simple_preprocess(x))\n",
    "\n",
    "# Function to create document vectors\n",
    "def document_vector_glove(doc, glove_embeddings):\n",
    "    \"\"\"\n",
    "    Create a document vector by averaging the GloVe vectors of the words in the document.\n",
    "\n",
    "    Args:\n",
    "        doc (list of str): The tokenized document.\n",
    "        glove_embeddings (dict): A dictionary of word to GloVe vector mappings.\n",
    "\n",
    "    Returns:\n",
    "        ndarray: The averaged document vector.\n",
    "    \"\"\"    \n",
    "    doc = [word for word in doc if word in glove_embeddings]\n",
    "    if not doc:\n",
    "        return np.zeros(100)  \n",
    "    else:\n",
    "        return np.mean([glove_embeddings[word] for word in doc], axis=0)\n",
    "\n",
    "# Creat document vector for each review; store in numpy array\n",
    "df['doc_vector'] = df['tokenized_text'].apply(lambda doc: document_vector_glove(doc, glove_embeddings))\n",
    "X_glove = np.array(df['doc_vector'].tolist())"
   ]
  },
  {
   "cell_type": "code",
   "execution_count": null,
   "metadata": {},
   "outputs": [],
   "source": [
    "X_glove"
   ]
  },
  {
   "cell_type": "markdown",
   "metadata": {
    "id": "LZXuNe7xYYN2"
   },
   "source": [
    "## **Classification**"
   ]
  },
  {
   "cell_type": "code",
   "execution_count": null,
   "metadata": {
    "id": "bu_dPV7YYX7m"
   },
   "outputs": [],
   "source": [
    "from sklearn.model_selection import cross_val_score\n",
    "from sklearn.ensemble import RandomForestClassifier, GradientBoostingClassifier\n",
    "from sklearn.svm import SVC\n",
    "from sklearn.neighbors import KNeighborsClassifier\n",
    "from sklearn.naive_bayes import MultinomialNB"
   ]
  },
  {
   "cell_type": "markdown",
   "metadata": {
    "id": "6C0Fm0GxtWgF"
   },
   "source": [
    "### **TF-IDF**"
   ]
  },
  {
   "cell_type": "markdown",
   "metadata": {
    "id": "c1XcYY9qsF9W"
   },
   "source": [
    "#### **Random Forest**"
   ]
  },
  {
   "cell_type": "code",
   "execution_count": null,
   "metadata": {
    "colab": {
     "background_save": true
    },
    "id": "UUrmI649YLps",
    "outputId": "d3b30513-eb6b-415f-dbb6-ae0ec2e71bfe"
   },
   "outputs": [],
   "source": [
    "%%time\n",
    "\n",
    "# Cross Validation with 5 folds\n",
    "model_rf = RandomForestClassifier(random_state=42)\n",
    "scores = cross_val_score(estimator=model_rf,\n",
    "                         X=tfidf_text_vectors,\n",
    "                         y=df['outcome'],\n",
    "                         n_jobs=-1,\n",
    "                         cv=5)\n",
    "\n",
    "print (\"Validation scores from each iteration of the cross validation for Random Forest\", scores)\n",
    "print (\"Mean value across of validation scores for Random Forest\", scores.mean())\n",
    "print (\"Standard deviation of validation scores for Random Forest\", scores.std())"
   ]
  },
  {
   "cell_type": "markdown",
   "metadata": {
    "id": "p2vNcVCHsf7z"
   },
   "source": [
    "#### **Support Vector Machine**"
   ]
  },
  {
   "cell_type": "code",
   "execution_count": null,
   "metadata": {
    "colab": {
     "base_uri": "https://localhost:8080/"
    },
    "id": "UawHGSUCscgE",
    "outputId": "a88f57d0-3baf-4d30-e6cb-5847f1d97290"
   },
   "outputs": [],
   "source": [
    "%%time\n",
    "\n",
    "# Cross-validation with 5 folds\n",
    "model_svm = SVC(random_state=42)\n",
    "scores_svm = cross_val_score(estimator=model_svm,\n",
    "                             X=tfidf_text_vectors,\n",
    "                             y=df['outcome'],\n",
    "                             n_jobs=-1,\n",
    "                             cv=5)\n",
    "\n",
    "print(\"Validation scores from each iteration of the cross validation for SVM: \", scores_svm)\n",
    "print(\"Mean value across of validation scores for SVM: \", scores_svm.mean())\n",
    "print(\"Standard deviation of validation scores for SVM: \", scores_svm.std())"
   ]
  },
  {
   "cell_type": "markdown",
   "metadata": {
    "id": "rKYTQvcNsvte"
   },
   "source": [
    "#### **Naive Bayes**"
   ]
  },
  {
   "cell_type": "code",
   "execution_count": null,
   "metadata": {
    "colab": {
     "base_uri": "https://localhost:8080/"
    },
    "id": "PVIr4PSxswcD",
    "outputId": "35e28617-11ee-41c7-cc61-fe72a9589b0e"
   },
   "outputs": [],
   "source": [
    "%%time\n",
    "\n",
    "# Cross-validation with 5 folds\n",
    "model_nb = MultinomialNB()\n",
    "scores_nb = cross_val_score(estimator=model_nb,\n",
    "                            X=tfidf_text_vectors,\n",
    "                            y=df['outcome'],\n",
    "                            cv=5,\n",
    "                            n_jobs=-1)\n",
    "\n",
    "print(\"Validation scores from each iteration of the cross validation for Naive Bayes: \", scores_nb)\n",
    "print(\"Mean value across of validation scores for Naive Bayes: \", scores_nb.mean())\n",
    "print(\"Standard deviation of validation scores for Naive Bayes: \", scores_nb.std())"
   ]
  },
  {
   "cell_type": "markdown",
   "metadata": {
    "id": "LGdv9dvzs_5T"
   },
   "source": [
    "#### **Gradient Boosting**"
   ]
  },
  {
   "cell_type": "code",
   "execution_count": null,
   "metadata": {
    "colab": {
     "base_uri": "https://localhost:8080/"
    },
    "id": "lwyWA5j9tAV-",
    "outputId": "64155198-339d-43c5-bbdc-4ed5277dc23c"
   },
   "outputs": [],
   "source": [
    "%%time\n",
    "\n",
    "# Cross-validation with 5 folds\n",
    "model_gb = GradientBoostingClassifier(random_state=42)\n",
    "scores_gb = cross_val_score(estimator=model_gb,\n",
    "                            X=tfidf_text_vectors,\n",
    "                            y=df['outcome'],\n",
    "                            cv=5,\n",
    "                            n_jobs=-1)\n",
    "\n",
    "print(\"Validation scores from each iteration of the cross validation for Gradient Boosting: \", scores_gb)\n",
    "print(\"Mean value across of validation scores for Gradient Boosting: \", scores_gb.mean())\n",
    "print(\"Standard deviation of validation scores for Gradient Boosting: \", scores_gb.std())"
   ]
  },
  {
   "cell_type": "markdown",
   "metadata": {
    "id": "52lXKEpLluSL"
   },
   "source": [
    "### **NMF**"
   ]
  },
  {
   "cell_type": "code",
   "execution_count": null,
   "metadata": {
    "colab": {
     "base_uri": "https://localhost:8080/",
     "height": 644
    },
    "id": "N_hPz7072Gh2",
    "outputId": "840c9955-fe8c-4767-ab35-bcd103663bba"
   },
   "outputs": [],
   "source": [
    "# %%time\n",
    "\n",
    "# Define classifiers\n",
    "#classifiers = {\"Random Forest\": RandomForestClassifier(random_state=42),\n",
    " #   \"SVM\": SVC(random_state=42),\n",
    "  #  \"Naive Bayes\": MultinomialNB(), \n",
    "   # \"Gradient Boosting\": GradientBoostingClassifier(random_state=42),\n",
    "#}\n",
    "\n",
    "# Cross-validation with 5 folds\n",
    "#for name, classifier in classifiers.items():\n",
    " #   scores = cross_val_score(classifier, W_text_matrix, df['outcome'], n_jobs=-1, cv=5)\n",
    " #   print(f\"{name} Accuracy: {scores.mean():.6f} (+/- {scores.std() * 2:.6f})\")"
   ]
  },
  {
   "cell_type": "code",
   "execution_count": null,
   "metadata": {},
   "outputs": [],
   "source": [
    "# Define classifiers\n",
    "classifiers = {\"Random Forest\": RandomForestClassifier(random_state=42),\n",
    "    \"SVM\": SVC(random_state=42),\n",
    "    \"Naive Bayes\": MultinomialNB(), \n",
    "    \"Gradient Boosting\": GradientBoostingClassifier(random_state=42),\n",
    "}\n",
    "\n",
    "# Cross-validation with 5 folds\n",
    "for name, classifier in classifiers.items():\n",
    "    start_cpu = time.process_time()  # Start time for measuring CPU time\n",
    "    scores = cross_val_score(classifier, W_text_matrix, df['outcome'], n_jobs=-1, cv=5)\n",
    "    end_cpu = time.process_time()  # End time for measuring CPU time\n",
    "    cpu_time = end_cpu - start_cpu\n",
    "    \n",
    "    print(\"------\")\n",
    "    print(f\"{name} Accuracy: {scores.mean():.6f} (+/- {scores.std() * 2:.6f})\")\n",
    "    print(f\"{name} CPU time: {cpu_time:.2f} seconds\")"
   ]
  },
  {
   "cell_type": "markdown",
   "metadata": {
    "id": "CWQKPRjul6Md"
   },
   "source": [
    "### **GloVe**"
   ]
  },
  {
   "cell_type": "code",
   "execution_count": null,
   "metadata": {
    "id": "ziojQOWhlfHS"
   },
   "outputs": [],
   "source": [
    "# Define classifiers\n",
    "classifiers = {\n",
    "    \"Random Forest\": RandomForestClassifier(random_state=42),\n",
    "    \"SVM\": SVC(random_state=42),\n",
    "    \"Gradient Boosting\": GradientBoostingClassifier(random_state=42),\n",
    "}\n",
    "\n",
    "# Cross-validation with 5 folds\n",
    "for name, classifier in classifiers.items():\n",
    "    start_cpu = time.process_time() \n",
    "    scores = cross_val_score(classifier, X_glove, df['outcome'], n_jobs=-1, cv=5)\n",
    "    end_cpu = time.process_time() \n",
    "    cpu_time = end_cpu - start_cpu\n",
    "    \n",
    "    print(\"------\")\n",
    "    print(f\"{name} Accuracy: {scores.mean():.6f} (+/- {scores.std() * 2:.6f})\")\n",
    "    print(f\"{name} CPU time: {cpu_time:.2f} seconds\")"
   ]
  },
  {
   "cell_type": "markdown",
   "metadata": {},
   "source": [
    "## **Hyperparameter Tuning (GridSearch CV)**"
   ]
  },
  {
   "cell_type": "code",
   "execution_count": 16,
   "metadata": {},
   "outputs": [],
   "source": [
    "from sklearn.model_selection import GridSearchCV\n",
    "from sklearn.pipeline import Pipeline\n",
    "from sklearn.metrics import make_scorer, accuracy_score"
   ]
  },
  {
   "cell_type": "code",
   "execution_count": 17,
   "metadata": {},
   "outputs": [
    {
     "name": "stdout",
     "output_type": "stream",
     "text": [
      "Best parameters:\n",
      "{'n_estimators': 250, 'max_depth': None}\n",
      "\n",
      "Best score:\n",
      "0.8437126155519306\n",
      "\n",
      "Grid scores:\n",
      "------\n",
      "n_estimators: 10, max_depth: 20, Accuracy: 0.724925 (+/- 0.103573), CPU Time: 0.247 seconds\n",
      "------\n",
      "n_estimators: 10, max_depth: 50, Accuracy: 0.767741 (+/- 0.096476), CPU Time: 0.112 seconds\n",
      "------\n",
      "n_estimators: 10, max_depth: 100, Accuracy: 0.808629 (+/- 0.054805), CPU Time: 0.180 seconds\n",
      "------\n",
      "n_estimators: 10, max_depth: None, Accuracy: 0.834533 (+/- 0.051301), CPU Time: 0.372 seconds\n",
      "------\n",
      "n_estimators: 100, max_depth: 20, Accuracy: 0.762741 (+/- 0.101388), CPU Time: 0.177 seconds\n",
      "------\n",
      "n_estimators: 100, max_depth: 50, Accuracy: 0.801682 (+/- 0.101397), CPU Time: 0.402 seconds\n",
      "------\n",
      "n_estimators: 100, max_depth: 100, Accuracy: 0.828252 (+/- 0.048356), CPU Time: 0.956 seconds\n",
      "------\n",
      "n_estimators: 100, max_depth: None, Accuracy: 0.843118 (+/- 0.051512), CPU Time: 2.909 seconds\n",
      "------\n",
      "n_estimators: 250, max_depth: 20, Accuracy: 0.761786 (+/- 0.089135), CPU Time: 0.424 seconds\n",
      "------\n",
      "n_estimators: 250, max_depth: 50, Accuracy: 0.796377 (+/- 0.097908), CPU Time: 0.828 seconds\n",
      "------\n",
      "n_estimators: 250, max_depth: 100, Accuracy: 0.827263 (+/- 0.049992), CPU Time: 2.008 seconds\n",
      "------\n",
      "n_estimators: 250, max_depth: None, Accuracy: 0.843713 (+/- 0.051412), CPU Time: 6.889 seconds\n"
     ]
    }
   ],
   "source": [
    "###USE THIS\n",
    "\n",
    "from sklearn.ensemble import RandomForestClassifier\n",
    "from sklearn.model_selection import cross_val_score\n",
    "import numpy as np\n",
    "import time\n",
    "\n",
    "# Assuming X_glove and df['outcome'] are prepared\n",
    "X = tfidf_text_vectors\n",
    "y = df['outcome']\n",
    "\n",
    "# Parameter grid setup\n",
    "n_estimators = [10, 100, 250]\n",
    "max_depths = [20, 50, 100, None]\n",
    "\n",
    "results = []\n",
    "\n",
    "for n_estimator in n_estimators:\n",
    "    for max_depth in max_depths:\n",
    "        start_cpu_time = time.process_time()\n",
    "        \n",
    "        # Create and fit the model manually\n",
    "        model = RandomForestClassifier(n_estimators=n_estimator, max_depth=max_depth, random_state=42)\n",
    "        scores = cross_val_score(model, X, y, cv=5, n_jobs=-1)\n",
    "        \n",
    "        end_cpu_time = time.process_time()\n",
    "        \n",
    "        # Append results\n",
    "        results.append({\n",
    "            'n_estimators': n_estimator,\n",
    "            'max_depth': max_depth,\n",
    "            'mean_score': np.mean(scores),\n",
    "            'std_score': np.std(scores),\n",
    "            'cpu_time': end_cpu_time - start_cpu_time\n",
    "        })\n",
    "\n",
    "# Find the best result based on the mean score\n",
    "best_result = max(results, key=lambda x: x['mean_score'])\n",
    "\n",
    "# Print the best parameters and the corresponding score\n",
    "print(\"Best parameters:\")\n",
    "best_params = {k: best_result[k] for k in ['n_estimators', 'max_depth']}\n",
    "print(best_params)\n",
    "print(\"\\nBest score:\")\n",
    "print(best_result['mean_score'])\n",
    "\n",
    "# Print other scores including CPU times\n",
    "print(\"\\nGrid scores:\")\n",
    "for result in results:\n",
    "    print(\"------\")\n",
    "    params = f\"n_estimators: {result['n_estimators']}, max_depth: {result['max_depth']}\"\n",
    "    print(f\"{params}, Accuracy: {result['mean_score']:.6f} (+/- {result['std_score'] * 2:.6f}), CPU Time: {result['cpu_time']:.3f} seconds\")\n"
   ]
  },
  {
   "cell_type": "markdown",
   "metadata": {},
   "source": [
    "### **Parameter Tuning of RF with TF-IDF vectorizer (accounting for ngrams)**"
   ]
  },
  {
   "cell_type": "code",
   "execution_count": null,
   "metadata": {},
   "outputs": [],
   "source": [
    "%%time\n",
    "\n",
    "# Define pipeline with TF-IDF vectorizer and classifier step\n",
    "pipeline_tfidf = Pipeline([\n",
    "    ('tfidf', TfidfVectorizer()),  # Add the TF-IDF vectorizer\n",
    "    ('clf', RandomForestClassifier(random_state=42))\n",
    "])\n",
    "\n",
    "# Define the parameter grid, including n-gram ranges for the TF-IDF vectorizer\n",
    "param_grid_tfidf = {\n",
    "    'tfidf__ngram_range': [(1, 1), (1, 2), (1, 3)],  # Testing unigrams, bigrams, and trigrams\n",
    "    'clf__n_estimators': [10, 100, 250],\n",
    "    'clf__max_depth': [20, 50, 100, None],\n",
    "}\n",
    "\n",
    "grid_search_tfidf = GridSearchCV(pipeline_tfidf, param_grid_tfidf, cv=5, n_jobs=-1, verbose=1)\n",
    "grid_search_tfidf.fit(df['processed_reviewText'], df['outcome'])\n",
    "results = grid_search_tfidf.cv_results_\n",
    "\n",
    "# Print the best parameters and the corresponding score\n",
    "print(\"Best parameters:\")\n",
    "print(grid_search_tfidf.best_params_)\n",
    "print(\"\\nBest score:\")\n",
    "print(grid_search_tfidf.best_score_)\n",
    "\n",
    "# Print other scores\n",
    "print(\"\\nGrid scores:\")\n",
    "for i in range(len(results['params'])):\n",
    "    print(\"------\")\n",
    "    name = ', '.join([f\"{key.split('__')[-1]}: {value}\" for key, value in results['params'][i].items()])\n",
    "    mean_score = results['mean_test_score'][i]\n",
    "    std_score = results['std_test_score'][i]\n",
    "    print(f\"{name} Accuracy: {mean_score:.6f} (+/- {std_score * 2:.6f})\")"
   ]
  },
  {
   "cell_type": "code",
   "execution_count": 19,
   "metadata": {},
   "outputs": [
    {
     "name": "stdout",
     "output_type": "stream",
     "text": [
      "Best n-gram range:\n",
      "(1, 3)\n",
      "\n",
      "Best score:\n",
      "0.8384584013050571\n",
      "\n",
      "Grid scores:\n",
      "------\n",
      "ngram_range: (1, 1), Accuracy: 0.835036 (+/- 0.046756), CPU Time: 1.155 seconds\n",
      "------\n",
      "ngram_range: (1, 2), Accuracy: 0.837952 (+/- 0.047651), CPU Time: 1.271 seconds\n",
      "------\n",
      "ngram_range: (1, 3), Accuracy: 0.838458 (+/- 0.046310), CPU Time: 1.385 seconds\n"
     ]
    }
   ],
   "source": [
    "## USE THIS\n",
    "\n",
    "from sklearn.feature_extraction.text import TfidfVectorizer\n",
    "from sklearn.ensemble import RandomForestClassifier\n",
    "from sklearn.model_selection import cross_val_score\n",
    "from sklearn.pipeline import Pipeline\n",
    "import numpy as np\n",
    "import time\n",
    "\n",
    "X = df['processed_reviewText']  # Use raw text data here, not tfidf_text_vectors\n",
    "y = df['outcome']\n",
    "\n",
    "# Simplified parameter setup\n",
    "ngram_ranges = [(1, 1), (1, 2), (1, 3)]\n",
    "\n",
    "# Fixed parameters based on your choice\n",
    "n_estimator = 10\n",
    "max_depth = None\n",
    "\n",
    "results = []\n",
    "\n",
    "for ngram_range in ngram_ranges:\n",
    "    start_cpu_time = time.process_time()\n",
    "    \n",
    "    # Define and fit the pipeline for each n-gram range\n",
    "    pipeline = Pipeline([\n",
    "        ('tfidf', TfidfVectorizer(ngram_range=ngram_range,min_df=5, max_df=0.7)),\n",
    "        ('clf', RandomForestClassifier(n_estimators=n_estimator, max_depth=max_depth, random_state=42))\n",
    "    ])\n",
    "    scores = cross_val_score(pipeline, X, y, cv=5, n_jobs=-1)\n",
    "    \n",
    "    end_cpu_time = time.process_time()\n",
    "    \n",
    "    # Append results\n",
    "    results.append({\n",
    "        'ngram_range': ngram_range,\n",
    "        'mean_score': np.mean(scores),\n",
    "        'std_score': np.std(scores),\n",
    "        'cpu_time': end_cpu_time - start_cpu_time\n",
    "    })\n",
    "\n",
    "# Find the best result based on the mean score\n",
    "best_result = max(results, key=lambda x: x['mean_score'])\n",
    "\n",
    "# Print the best parameters and the corresponding score\n",
    "print(\"Best n-gram range:\")\n",
    "print(best_result['ngram_range'])\n",
    "print(\"\\nBest score:\")\n",
    "print(best_result['mean_score'])\n",
    "\n",
    "# Print other scores including CPU times\n",
    "print(\"\\nGrid scores:\")\n",
    "for result in results:\n",
    "    print(\"------\")\n",
    "    ngram_range = result['ngram_range']\n",
    "    print(f\"ngram_range: {ngram_range}, Accuracy: {result['mean_score']:.6f} (+/- {result['std_score'] * 2:.6f}), CPU Time: {result['cpu_time']:.3f} seconds\")\n"
   ]
  },
  {
   "cell_type": "markdown",
   "metadata": {},
   "source": [
    "### **Parameter Tuning of RF with NMF vectorizer**"
   ]
  },
  {
   "cell_type": "code",
   "execution_count": null,
   "metadata": {},
   "outputs": [],
   "source": [
    "%%time\n",
    "\n",
    "# Define pipeline with classifier step\n",
    "pipeline_nmf = Pipeline([\n",
    "    ('clf', RandomForestClassifier(random_state=42))\n",
    "])\n",
    "\n",
    "# Define parameter grid\n",
    "param_grid_nmf = {\n",
    "    'clf__n_estimators': [10, 100, 250],\n",
    "    'clf__max_depth': [20, 50, 100, None],\n",
    "}\n",
    "\n",
    "grid_search_nmf = GridSearchCV(pipeline_nmf, param_grid_nmf, cv=5, n_jobs=-1, verbose=1)\n",
    "grid_search_nmf.fit(W_text_matrix, df['outcome'])\n",
    "results = grid_search_nmf.cv_results_\n",
    "\n",
    "# Print the best parameters and the corresponding score\n",
    "print(\"Best parameters:\")\n",
    "print(grid_search_nmf.best_params_)\n",
    "print(\"\\nBest score:\")\n",
    "print(grid_search_nmf.best_score_)\n",
    "\n",
    "# Print other scores\n",
    "print(\"\\nGrid scores:\")\n",
    "for i in range(len(results['params'])):\n",
    "    print(\"------\")\n",
    "    name = ', '.join([f\"{key.split('__')[-1]}: {value}\" for key, value in results['params'][i].items()])\n",
    "    mean_score = results['mean_test_score'][i]\n",
    "    std_score = results['std_test_score'][i]\n",
    "    print(f\"{name} Accuracy: {mean_score:.6f} (+/- {std_score * 2:.6f})\")"
   ]
  },
  {
   "cell_type": "code",
   "execution_count": null,
   "metadata": {},
   "outputs": [],
   "source": [
    "import time\n",
    "import numpy as np\n",
    "from sklearn.model_selection import cross_val_score\n",
    "from sklearn.ensemble import RandomForestClassifier\n",
    "\n",
    "# Assuming W_text_matrix and df['outcome'] are your dataset and labels\n",
    "X = W_text_matrix\n",
    "y = df['outcome']\n",
    "\n",
    "# Define your parameter grid manually\n",
    "n_estimators_options = [10, 100, 250]\n",
    "max_depth_options = [20, 50, 100, None]\n",
    "\n",
    "results = []\n",
    "\n",
    "# Manually iterate through the parameter grid\n",
    "for n_estimators in n_estimators_options:\n",
    "    for max_depth in max_depth_options:\n",
    "        start_cpu_time = time.process_time()\n",
    "        \n",
    "        # Define and fit the model for each combination\n",
    "        clf = RandomForestClassifier(n_estimators=n_estimators, max_depth=max_depth, random_state=42)\n",
    "        scores = cross_val_score(clf, X, y, cv=5, n_jobs=-1)\n",
    "        \n",
    "        end_cpu_time = time.process_time()\n",
    "        \n",
    "        # Store results\n",
    "        results.append({\n",
    "            'n_estimators': n_estimators,\n",
    "            'max_depth': max_depth,\n",
    "            'mean_score': np.mean(scores),\n",
    "            'std_score': np.std(scores),\n",
    "            'cpu_time': end_cpu_time - start_cpu_time\n",
    "        })\n",
    "\n",
    "# Find the best result based on the mean score\n",
    "best_result = max(results, key=lambda x: x['mean_score'])\n",
    "\n",
    "# Print the best parameters and the corresponding score\n",
    "print(\"Best parameters:\")\n",
    "best_params = {k: best_result[k] for k in ['n_estimators', 'max_depth']}\n",
    "print(best_params)\n",
    "print(\"\\nBest score:\")\n",
    "print(best_result['mean_score'])\n",
    "\n",
    "# Print other scores including CPU times\n",
    "print(\"\\nGrid scores:\")\n",
    "for result in results:\n",
    "    print(\"------\")\n",
    "    params = f\"n_estimators: {result['n_estimators']}, max_depth: {result['max_depth']}\"\n",
    "    print(f\"{params}, Accuracy: {result['mean_score']:.6f} (+/- {result['std_score'] * 2:.6f}), CPU Time: {result['cpu_time']:.3f} seconds\")"
   ]
  },
  {
   "cell_type": "markdown",
   "metadata": {},
   "source": [
    "### **Parameter Tuning of RF with GloVe vectorizer**"
   ]
  },
  {
   "cell_type": "code",
   "execution_count": null,
   "metadata": {},
   "outputs": [],
   "source": [
    "%%time\n",
    "\n",
    "# Define pipeline with classifier step\n",
    "pipeline_glove = Pipeline([\n",
    "    ('clf', RandomForestClassifier(random_state=42))\n",
    "])\n",
    "\n",
    "# Define parameter grid\n",
    "param_grid_glove = {\n",
    "    'clf__n_estimators': [10, 100, 250],\n",
    "    'clf__max_depth': [20, 50, 100, None],\n",
    "}\n",
    "\n",
    "grid_search_glove = GridSearchCV(pipeline_glove, param_grid_glove, cv=5, n_jobs=-1, verbose=1)\n",
    "grid_search_glove.fit(X_glove, df['outcome'])\n",
    "results = grid_search_glove.cv_results_\n",
    "\n",
    "# Print the best parameters and the corresponding score\n",
    "print(\"Best parameters:\")\n",
    "print(grid_search_glove.best_params_)\n",
    "print(\"\\nBest score:\")\n",
    "print(grid_search_glove.best_score_)\n",
    "\n",
    "# Print other scores\n",
    "print(\"\\nGrid scores:\")\n",
    "for i in range(len(results['params'])):\n",
    "    print(\"------\")\n",
    "    name = ', '.join([f\"{key.split('__')[-1]}: {value}\" for key, value in results['params'][i].items()])\n",
    "    mean_score = results['mean_test_score'][i]\n",
    "    std_score = results['std_test_score'][i]\n",
    "    print(f\"{name} Accuracy: {mean_score:.6f} (+/- {std_score * 2:.6f})\")"
   ]
  },
  {
   "cell_type": "code",
   "execution_count": null,
   "metadata": {},
   "outputs": [],
   "source": [
    "from sklearn.ensemble import RandomForestClassifier\n",
    "from sklearn.model_selection import cross_val_score\n",
    "import numpy as np\n",
    "import time\n",
    "\n",
    "# Assuming X_glove and df['outcome'] are prepared\n",
    "X = X_glove\n",
    "y = df['outcome']\n",
    "\n",
    "# Parameter grid setup\n",
    "n_estimators = [10, 100, 250]\n",
    "max_depths = [20, 50, 100, None]\n",
    "\n",
    "results = []\n",
    "\n",
    "for n_estimator in n_estimators:\n",
    "    for max_depth in max_depths:\n",
    "        start_cpu_time = time.process_time()\n",
    "        \n",
    "        # Create and fit the model manually\n",
    "        model = RandomForestClassifier(n_estimators=n_estimator, max_depth=max_depth, random_state=42)\n",
    "        scores = cross_val_score(model, X, y, cv=5, n_jobs=-1)\n",
    "        \n",
    "        end_cpu_time = time.process_time()\n",
    "        \n",
    "        # Append results\n",
    "        results.append({\n",
    "            'n_estimators': n_estimator,\n",
    "            'max_depth': max_depth,\n",
    "            'mean_score': np.mean(scores),\n",
    "            'std_score': np.std(scores),\n",
    "            'cpu_time': end_cpu_time - start_cpu_time\n",
    "        })\n",
    "\n",
    "# Find the best result based on the mean score\n",
    "best_result = max(results, key=lambda x: x['mean_score'])\n",
    "\n",
    "# Print the best parameters and the corresponding score\n",
    "print(\"Best parameters:\")\n",
    "best_params = {k: best_result[k] for k in ['n_estimators', 'max_depth']}\n",
    "print(best_params)\n",
    "print(\"\\nBest score:\")\n",
    "print(best_result['mean_score'])\n",
    "\n",
    "# Print other scores including CPU times\n",
    "print(\"\\nGrid scores:\")\n",
    "for result in results:\n",
    "    print(\"------\")\n",
    "    params = f\"n_estimators: {result['n_estimators']}, max_depth: {result['max_depth']}\"\n",
    "    print(f\"{params}, Accuracy: {result['mean_score']:.6f} (+/- {result['std_score'] * 2:.6f}), CPU Time: {result['cpu_time']:.3f} seconds\")\n"
   ]
  },
  {
   "cell_type": "code",
   "execution_count": null,
   "metadata": {},
   "outputs": [],
   "source": []
  }
 ],
 "metadata": {
  "accelerator": "GPU",
  "colab": {
   "gpuType": "A100",
   "machine_shape": "hm",
   "provenance": [],
   "toc_visible": true
  },
  "kernelspec": {
   "display_name": "Python 3 (ipykernel)",
   "language": "python",
   "name": "python3"
  },
  "language_info": {
   "codemirror_mode": {
    "name": "ipython",
    "version": 3
   },
   "file_extension": ".py",
   "mimetype": "text/x-python",
   "name": "python",
   "nbconvert_exporter": "python",
   "pygments_lexer": "ipython3",
   "version": "3.10.13"
  }
 },
 "nbformat": 4,
 "nbformat_minor": 1
}
